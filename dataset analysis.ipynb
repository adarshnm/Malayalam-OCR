{
  "cells": [
    {
      "cell_type": "code",
      "execution_count": 1,
      "id": "f1471b3e",
      "metadata": {
        "ExecuteTime": {
          "end_time": "2022-04-16T16:39:22.511191Z",
          "start_time": "2022-04-16T16:39:12.728105Z"
        }
      },
      "outputs": [],
      "source": [
        "import numpy as np\n",
        "import os\n",
        "import PIL\n",
        "import PIL.Image\n",
        "import datetime\n",
        "import pandas as pd \n",
        "import pickle\n",
        "import matplotlib.pyplot as plt\n",
        "import tensorflow as tf\n",
        "from sklearn.metrics import confusion_matrix, classification_report\n",
        "from docx import Document\n",
        "from docx.shared import Inches"
      ]
    },
    {
      "cell_type": "code",
      "execution_count": 2,
      "id": "49f1a094",
      "metadata": {
        "ExecuteTime": {
          "end_time": "2022-04-16T16:39:24.362532Z",
          "start_time": "2022-04-16T16:39:24.359537Z"
        }
      },
      "outputs": [],
      "source": [
        "from matplotlib.font_manager import FontProperties\n",
        "from pathlib import Path\n",
        "# point to the font location with an absolute path\n",
        "nirm = Path('c:/Windows/Fonts/kartika.ttf')\n",
        "\n",
        "# configure the  font\n",
        "mal_font = FontProperties(fname=nirm)"
      ]
    },
    {
      "cell_type": "code",
      "execution_count": 17,
      "id": "d724e49a",
      "metadata": {
        "ExecuteTime": {
          "end_time": "2022-04-16T17:38:13.875252Z",
          "start_time": "2022-04-16T17:38:13.846514Z"
        }
      },
      "outputs": [],
      "source": [
        "mal = np.load('data/mal_chars_126.npy')"
      ]
    },
    {
      "cell_type": "code",
      "execution_count": 40,
      "id": "c58b8553",
      "metadata": {
        "ExecuteTime": {
          "end_time": "2022-04-16T17:56:11.924083Z",
          "start_time": "2022-04-16T17:56:11.907078Z"
        }
      },
      "outputs": [],
      "source": [
        "def predict_word(ch):\n",
        "    pred = ''\n",
        "    lis = ch.split(' ')\n",
        "    char_list = [chr(int(i)) for i in lis]\n",
        "    pred += ''.join(char_list)\n",
        "    return pred"
      ]
    },
    {
      "cell_type": "code",
      "execution_count": 4,
      "id": "9f42c3a5",
      "metadata": {
        "ExecuteTime": {
          "end_time": "2022-04-16T16:39:30.904526Z",
          "start_time": "2022-04-16T16:39:30.901526Z"
        }
      },
      "outputs": [],
      "source": [
        "BATCH_SIZE = 32\n",
        "NORMAL_EPOCHS= 6\n",
        "FINETUNE_EPOCHS = 8\n",
        "img_height = 224\n",
        "img_width = 224"
      ]
    },
    {
      "cell_type": "code",
      "execution_count": 5,
      "id": "4f17cb37",
      "metadata": {
        "ExecuteTime": {
          "end_time": "2022-04-16T16:39:36.473484Z",
          "start_time": "2022-04-16T16:39:31.733852Z"
        }
      },
      "outputs": [
        {
          "name": "stdout",
          "output_type": "stream",
          "text": [
            "Found 31476 files belonging to 126 classes.\n",
            "Using 22034 files for training.\n"
          ]
        }
      ],
      "source": [
        "data_dir = 'data/dataset/'\n",
        "train_ds = tf.keras.utils.image_dataset_from_directory(\n",
        "  data_dir,\n",
        "  validation_split=0.3,\n",
        "  subset=\"training\",\n",
        "  seed=12,\n",
        "  image_size=(img_height, img_width),\n",
        "  batch_size=BATCH_SIZE)"
      ]
    },
    {
      "cell_type": "code",
      "execution_count": 6,
      "id": "8c432280",
      "metadata": {
        "ExecuteTime": {
          "end_time": "2022-04-16T16:39:39.712273Z",
          "start_time": "2022-04-16T16:39:38.692242Z"
        }
      },
      "outputs": [
        {
          "name": "stdout",
          "output_type": "stream",
          "text": [
            "Found 31476 files belonging to 126 classes.\n",
            "Using 9442 files for validation.\n"
          ]
        }
      ],
      "source": [
        "val_ds = tf.keras.utils.image_dataset_from_directory(\n",
        "  data_dir,\n",
        "  validation_split=0.3,\n",
        "  subset=\"validation\",\n",
        "  seed=12,\n",
        "  image_size=(img_height, img_width),\n",
        "  batch_size=BATCH_SIZE)"
      ]
    },
    {
      "cell_type": "code",
      "execution_count": 7,
      "id": "76f9a082",
      "metadata": {
        "ExecuteTime": {
          "end_time": "2022-04-16T16:39:42.941757Z",
          "start_time": "2022-04-16T16:39:42.918758Z"
        }
      },
      "outputs": [],
      "source": [
        "val_batches = tf.data.experimental.cardinality(val_ds)\n",
        "test_dataset = val_ds.take(val_batches // 5)\n",
        "val_ds = val_ds.skip(val_batches // 5)"
      ]
    },
    {
      "cell_type": "code",
      "execution_count": 8,
      "id": "7504e7ab",
      "metadata": {
        "ExecuteTime": {
          "end_time": "2022-04-16T16:39:55.708116Z",
          "start_time": "2022-04-16T16:39:55.690113Z"
        }
      },
      "outputs": [],
      "source": [
        "class_names = train_ds.class_names\n"
      ]
    },
    {
      "cell_type": "code",
      "execution_count": 9,
      "id": "6fe2e830",
      "metadata": {
        "ExecuteTime": {
          "end_time": "2022-03-30T07:02:46.201270Z",
          "start_time": "2022-03-30T07:02:46.187246Z"
        }
      },
      "outputs": [],
      "source": [
        "AUTOTUNE = tf.data.AUTOTUNE\n",
        "\n",
        "train_ds = train_ds.cache().prefetch(buffer_size=AUTOTUNE)\n",
        "val_ds = val_ds.cache().prefetch(buffer_size=AUTOTUNE)"
      ]
    },
    {
      "cell_type": "code",
      "execution_count": 9,
      "id": "f17dea67",
      "metadata": {
        "ExecuteTime": {
          "end_time": "2022-04-16T16:39:58.688169Z",
          "start_time": "2022-04-16T16:39:58.679163Z"
        }
      },
      "outputs": [],
      "source": [
        "NUM_CLASSES = len(class_names)\n",
        "IMG_SHAPE = (img_width, img_height, 3)"
      ]
    },
    {
      "cell_type": "code",
      "execution_count": 10,
      "id": "07e8beb6",
      "metadata": {
        "ExecuteTime": {
          "end_time": "2022-04-16T16:40:02.786634Z",
          "start_time": "2022-04-16T16:40:01.994107Z"
        }
      },
      "outputs": [],
      "source": [
        "import tensorflow_datasets as tfds\n",
        "def dataset_to_numpy(ds):\n",
        "    \"\"\"\n",
        "    Convert tensorflow dataset to numpy arrays\n",
        "    \"\"\"\n",
        "    images_batch = []\n",
        "    labels_batch = []\n",
        "    images = []\n",
        "    labels = []\n",
        "    \n",
        "\n",
        "    # Iterate over a dataset\n",
        "    for i, (image, label) in enumerate(tfds.as_numpy(ds)):\n",
        "        images_batch.append(image)\n",
        "        labels_batch.append(label)\n",
        "\n",
        "    for i, img_batch in enumerate(images_batch):\n",
        "        if i < 3:\n",
        "            print(img_batch.shape, labels_batch[i])\n",
        "        for j,img in enumerate(img_batch):\n",
        "            images.append(img)\n",
        "            labels.append(labels_batch[i][j])\n",
        "\n",
        "    return images, labels"
      ]
    },
    {
      "cell_type": "code",
      "execution_count": 11,
      "id": "985bba05",
      "metadata": {
        "ExecuteTime": {
          "end_time": "2022-04-16T16:42:49.068039Z",
          "start_time": "2022-04-16T16:42:46.518622Z"
        }
      },
      "outputs": [
        {
          "name": "stdout",
          "output_type": "stream",
          "text": [
            "(32, 224, 224, 3) [ 64  93   6  42  42   0  21 107 107  27  78  36  49  77  39  69  16  45\n",
            "  20  39  18 108  47  98 111 102 103  68 115 122  74  78]\n",
            "(32, 224, 224, 3) [ 25 122  21  33  58  83 103  88  38  70  62  80  19  83 122  79   9  50\n",
            "  36  45  87  88   2 120  74  36 116 101  92  98  63 111]\n",
            "(32, 224, 224, 3) [ 90  36 102  84  57 112  59  62 123  65 115 118  86  88  27  70  81  29\n",
            "  67  95 110  39   6   6  92   7  60  54  88  24 116  61]\n"
          ]
        }
      ],
      "source": [
        "y_test, y_true  = dataset_to_numpy(test_dataset)\n",
        "y_test = np.array(y_test)\n"
      ]
    },
    {
      "cell_type": "code",
      "execution_count": 12,
      "id": "6acbe7af",
      "metadata": {
        "ExecuteTime": {
          "end_time": "2022-04-16T16:42:52.464150Z",
          "start_time": "2022-04-16T16:42:52.454134Z"
        }
      },
      "outputs": [],
      "source": [
        "def generate_doc(model_folder,name,config):\n",
        "    document = Document()\n",
        "    document.add_heading(f'Model {name}: ', 0)\n",
        "    document.add_heading(f'Batch Size: {config[\"batch\"]}', 5)\n",
        "    document.add_heading(f'Normal epoch: {config[\"normal_epoch\"]}', 5)\n",
        "    document.add_heading(f'Finetuned epoch: {config[\"finetuned_epoch\"]}', 5)\n",
        "    document.add_heading('Accuracy', 3)\n",
        "    document.add_picture(model_folder + '\\\\accuracy.png', width=Inches(6))\n",
        "    document.add_heading('Loss', 3)\n",
        "    document.add_picture(model_folder + '\\\\loss.png', width=Inches(6))\n",
        "    document.add_heading('Loss', 3)\n",
        "    document.add_picture(model_folder + '\\\\prediction.png', width=Inches(6))\n",
        "    report = config['report']\n",
        "    table = document.add_table(rows=1,cols=len(report.keys()))\n",
        "    table.style = 'TableGrid'\n",
        "    # Adding heading in the 1st row of the table\n",
        "    row = table.rows[0].cells\n",
        "    for i, key in enumerate(list(report.keys())):\n",
        "        row[i].text = key\n",
        "    for index, row_data in report.iterrows():\n",
        "        row = table.add_row().cells\n",
        "        for j, key in enumerate(list(report.keys())):\n",
        "            if isinstance(row_data[key],float):\n",
        "                row[j].text = f\"{row_data[key]:.2f}\"\n",
        "            else:\n",
        "                row[j].text = f\"{row_data[key]}\"\n",
        "    file_name = model_folder+ f\"\\\\report.docx\"\n",
        "    document.save(file_name)"
      ]
    },
    {
      "cell_type": "code",
      "execution_count": 13,
      "id": "85c4d99d",
      "metadata": {
        "ExecuteTime": {
          "end_time": "2022-04-16T16:43:11.243790Z",
          "start_time": "2022-04-16T16:43:11.239785Z"
        }
      },
      "outputs": [],
      "source": [
        "crd = tf.data.experimental.cardinality(train_ds)"
      ]
    },
    {
      "cell_type": "code",
      "execution_count": 14,
      "id": "721ece7b",
      "metadata": {
        "ExecuteTime": {
          "end_time": "2022-04-16T16:43:13.838518Z",
          "start_time": "2022-04-16T16:43:13.818502Z"
        }
      },
      "outputs": [
        {
          "data": {
            "text/plain": [
              "<tf.Tensor: shape=(), dtype=int64, numpy=689>"
            ]
          },
          "execution_count": 14,
          "metadata": {},
          "output_type": "execute_result"
        }
      ],
      "source": [
        "crd"
      ]
    },
    {
      "cell_type": "code",
      "execution_count": 18,
      "id": "781a0de0",
      "metadata": {
        "ExecuteTime": {
          "end_time": "2022-04-16T17:41:03.933260Z",
          "start_time": "2022-04-16T17:39:24.584182Z"
        }
      },
      "outputs": [
        {
          "name": "stdout",
          "output_type": "stream",
          "text": [
            "(32, 224, 224, 3) [120  57  52  53  38  85  22 125  15  21  94  28  71  48  19  32 110  99\n",
            "  65  13  66  67  33  30  54  65 100  83   7  71   7  91]\n",
            "(32, 224, 224, 3) [ 44  97  35  86 107  57  39  80 108  88  39  75  68  69  96  94  10  79\n",
            " 110  12 125  59  28  23  68  16  91 122   7  99   9  51]\n",
            "(32, 224, 224, 3) [  6  97  69 125  22   1 122  96  24 119 123  87 124 109 106  74 100 108\n",
            "   9  30  59  62 101 125 105 113  94 120 125  80 121  73]\n"
          ]
        }
      ],
      "source": [
        "data, label  = dataset_to_numpy(train_ds)\n",
        "data = np.array(data)"
      ]
    },
    {
      "cell_type": "code",
      "execution_count": 58,
      "id": "06eb74c4",
      "metadata": {
        "ExecuteTime": {
          "end_time": "2022-04-16T18:03:55.355113Z",
          "start_time": "2022-04-16T18:03:55.338109Z"
        }
      },
      "outputs": [],
      "source": [
        "char_data = {}\n",
        "ds_len = len(label)\n",
        "chars = list(map(lambda x: predict_word(x),mal))\n",
        "char_data = dict.fromkeys(chars, 0)\n",
        "for i in range(ds_len):\n",
        "    char_name = chars[label[i]]\n",
        "    if char_name in char_data.keys():\n",
        "        char_data[char_name] += 1\n",
        "    else:\n",
        "        char_data[char_name] = 1\n",
        "        \n",
        "    \n",
        "    "
      ]
    },
    {
      "cell_type": "code",
      "execution_count": 60,
      "id": "da208427",
      "metadata": {
        "ExecuteTime": {
          "end_time": "2022-04-16T18:04:01.345083Z",
          "start_time": "2022-04-16T18:04:01.331089Z"
        }
      },
      "outputs": [],
      "source": [
        "chars_df = pd.DataFrame([(k, v) for k, v in char_data.items()],\n",
        "                       columns=['character', 'number of images'])"
      ]
    },
    {
      "cell_type": "code",
      "execution_count": 59,
      "id": "61054ee3",
      "metadata": {
        "ExecuteTime": {
          "end_time": "2022-04-16T18:03:57.291796Z",
          "start_time": "2022-04-16T18:03:57.281814Z"
        }
      },
      "outputs": [
        {
          "data": {
            "text/plain": [
              "{'ഁ': 165,\n",
              " 'ം': 178,\n",
              " 'ഃ': 175,\n",
              " 'അ': 169,\n",
              " 'ആ': 174,\n",
              " 'ഇ': 175,\n",
              " 'ഉ': 172,\n",
              " 'ഋ': 169,\n",
              " 'എ': 193,\n",
              " 'ഏ': 177,\n",
              " 'ഒ': 179,\n",
              " 'ക': 170,\n",
              " 'ക്ക': 185,\n",
              " 'ക്ത': 176,\n",
              " 'ക്ര': 173,\n",
              " 'ക്ല': 169,\n",
              " 'ക്ഷ': 195,\n",
              " 'ഖ': 171,\n",
              " 'ഗ': 173,\n",
              " 'ഗ്ഗ': 168,\n",
              " 'ഗ്ന': 169,\n",
              " 'ഗ്മ': 175,\n",
              " 'ഗ്ര': 172,\n",
              " 'ഗ്ല': 176,\n",
              " 'ഘ': 175,\n",
              " 'ങ': 179,\n",
              " 'ങ്ക': 172,\n",
              " 'ങ്ങ': 167,\n",
              " 'ച': 167,\n",
              " 'ച്ച': 168,\n",
              " 'ച്ഛ': 190,\n",
              " 'ഛ': 171,\n",
              " 'ജ': 185,\n",
              " 'ജ്ജ': 158,\n",
              " 'ജ്ഞ': 160,\n",
              " 'ഝ': 172,\n",
              " 'ഞ': 164,\n",
              " 'ഞ്ച': 167,\n",
              " 'ഞ്ഞ': 176,\n",
              " 'ട': 177,\n",
              " 'ട്ട': 186,\n",
              " 'ഠ': 182,\n",
              " 'ഡ': 193,\n",
              " 'ഡ്ഡ': 179,\n",
              " 'ഢ': 174,\n",
              " 'ണ': 165,\n",
              " 'ണ്ട': 183,\n",
              " 'ണ്ഡ': 158,\n",
              " 'ണ്ണ': 176,\n",
              " 'ണ്മ': 183,\n",
              " 'ത': 170,\n",
              " 'ത്ത': 184,\n",
              " 'ത്ഥ': 181,\n",
              " 'ത്ഭ': 183,\n",
              " 'ത്മ': 175,\n",
              " 'ത്ര': 172,\n",
              " 'ത്സ': 182,\n",
              " 'ഥ': 181,\n",
              " 'ദ': 166,\n",
              " 'ദ്ദ': 180,\n",
              " 'ദ്ധ': 172,\n",
              " 'ദ്ര': 175,\n",
              " 'ധ': 176,\n",
              " 'ന': 180,\n",
              " 'ന്ത': 163,\n",
              " 'ന്ഥ': 178,\n",
              " 'ന്ദ': 192,\n",
              " 'ന്ധ': 176,\n",
              " 'ന്ന': 164,\n",
              " 'പ': 176,\n",
              " 'പ്പ': 184,\n",
              " 'പ്ല': 174,\n",
              " 'ഫ': 171,\n",
              " 'ബ': 163,\n",
              " 'ബ്ദ': 154,\n",
              " 'ബ്ധ': 176,\n",
              " 'ബ്ബ': 175,\n",
              " 'ബ്ല': 163,\n",
              " 'ഭ': 167,\n",
              " 'മ': 182,\n",
              " 'മ്പ': 179,\n",
              " 'മ്മ': 171,\n",
              " 'മ്ല': 173,\n",
              " 'യ': 167,\n",
              " 'യ്യ': 168,\n",
              " 'ര': 178,\n",
              " 'റ': 175,\n",
              " 'റ്റ': 185,\n",
              " 'ല': 176,\n",
              " 'ല്ല': 176,\n",
              " 'ള': 174,\n",
              " 'ഴ': 182,\n",
              " 'വ': 160,\n",
              " 'വ്വ': 170,\n",
              " 'ശ': 174,\n",
              " 'ശ്ച': 177,\n",
              " 'ശ്മ': 179,\n",
              " 'ശ്ര': 175,\n",
              " 'ഷ': 171,\n",
              " 'സ': 180,\n",
              " 'സ്ത': 198,\n",
              " 'സ്ഥ': 164,\n",
              " 'സ്ന': 170,\n",
              " 'സ്പ': 173,\n",
              " 'സ്മ': 173,\n",
              " 'സ്ല': 167,\n",
              " 'സ്സ': 182,\n",
              " 'ഹ': 166,\n",
              " 'ഹ്ന': 180,\n",
              " 'ാ': 176,\n",
              " 'ി': 173,\n",
              " 'ീ': 170,\n",
              " 'ു': 191,\n",
              " 'ൂ': 189,\n",
              " 'ൃ': 175,\n",
              " 'െ': 171,\n",
              " 'േ': 176,\n",
              " '്': 180,\n",
              " '്ര': 187,\n",
              " 'ൗ': 172,\n",
              " '൯': 163,\n",
              " 'ൺ': 171,\n",
              " 'ൻ്റ': 178,\n",
              " 'ർ': 176,\n",
              " 'ൽ': 182,\n",
              " 'ൾ': 181}"
            ]
          },
          "execution_count": 59,
          "metadata": {},
          "output_type": "execute_result"
        }
      ],
      "source": [
        "char_data"
      ]
    },
    {
      "cell_type": "code",
      "execution_count": 61,
      "id": "c8a28c4b",
      "metadata": {
        "ExecuteTime": {
          "end_time": "2022-04-16T18:04:03.356177Z",
          "start_time": "2022-04-16T18:04:03.340173Z"
        }
      },
      "outputs": [
        {
          "data": {
            "text/html": [
              "<div>\n",
              "<style scoped>\n",
              "    .dataframe tbody tr th:only-of-type {\n",
              "        vertical-align: middle;\n",
              "    }\n",
              "\n",
              "    .dataframe tbody tr th {\n",
              "        vertical-align: top;\n",
              "    }\n",
              "\n",
              "    .dataframe thead th {\n",
              "        text-align: right;\n",
              "    }\n",
              "</style>\n",
              "<table border=\"1\" class=\"dataframe\">\n",
              "  <thead>\n",
              "    <tr style=\"text-align: right;\">\n",
              "      <th></th>\n",
              "      <th>character</th>\n",
              "      <th>number of images</th>\n",
              "    </tr>\n",
              "  </thead>\n",
              "  <tbody>\n",
              "    <tr>\n",
              "      <th>0</th>\n",
              "      <td>ഁ</td>\n",
              "      <td>165</td>\n",
              "    </tr>\n",
              "    <tr>\n",
              "      <th>1</th>\n",
              "      <td>ം</td>\n",
              "      <td>178</td>\n",
              "    </tr>\n",
              "    <tr>\n",
              "      <th>2</th>\n",
              "      <td>ഃ</td>\n",
              "      <td>175</td>\n",
              "    </tr>\n",
              "    <tr>\n",
              "      <th>3</th>\n",
              "      <td>അ</td>\n",
              "      <td>169</td>\n",
              "    </tr>\n",
              "    <tr>\n",
              "      <th>4</th>\n",
              "      <td>ആ</td>\n",
              "      <td>174</td>\n",
              "    </tr>\n",
              "  </tbody>\n",
              "</table>\n",
              "</div>"
            ],
            "text/plain": [
              "  character  number of images\n",
              "0         ഁ               165\n",
              "1         ം               178\n",
              "2         ഃ               175\n",
              "3         അ               169\n",
              "4         ആ               174"
            ]
          },
          "execution_count": 61,
          "metadata": {},
          "output_type": "execute_result"
        }
      ],
      "source": [
        "chars_df.head()"
      ]
    },
    {
      "cell_type": "code",
      "execution_count": 67,
      "id": "f0a0ad7c",
      "metadata": {
        "ExecuteTime": {
          "end_time": "2022-04-16T18:11:58.381953Z",
          "start_time": "2022-04-16T18:11:58.086286Z"
        }
      },
      "outputs": [],
      "source": [
        "chars_df.to_csv('./results/train_data.csv')\n",
        "chars_df.to_html('./results/train_data.html')\n",
        "chars_df.to_excel('./results/train_data.xlsx')"
      ]
    },
    {
      "cell_type": "code",
      "execution_count": null,
      "id": "fc2f0a35",
      "metadata": {},
      "outputs": [],
      "source": []
    }
  ],
  "metadata": {
    "kernelspec": {
      "display_name": "Python 3 (ipykernel)",
      "language": "python",
      "name": "python3"
    },
    "language_info": {
      "codemirror_mode": {
        "name": "ipython",
        "version": 3
      },
      "file_extension": ".py",
      "mimetype": "text/x-python",
      "name": "python",
      "nbconvert_exporter": "python",
      "pygments_lexer": "ipython3",
      "version": "3.9.7"
    }
  },
  "nbformat": 4,
  "nbformat_minor": 5
}
