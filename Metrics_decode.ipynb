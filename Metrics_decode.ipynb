{
  "cells": [
    {
      "cell_type": "code",
      "execution_count": 13,
      "id": "26b862a2",
      "metadata": {
        "ExecuteTime": {
          "end_time": "2022-05-08T11:56:20.370704Z",
          "start_time": "2022-05-08T11:56:20.360685Z"
        }
      },
      "outputs": [],
      "source": [
        "import pandas as pd\n",
        "import numpy as np "
      ]
    },
    {
      "cell_type": "code",
      "execution_count": 14,
      "id": "f2d3df36",
      "metadata": {
        "ExecuteTime": {
          "end_time": "2022-05-08T11:56:22.370422Z",
          "start_time": "2022-05-08T11:56:22.357413Z"
        }
      },
      "outputs": [],
      "source": [
        "mal = np.load('data/mal_chars_126.npy')"
      ]
    },
    {
      "cell_type": "code",
      "execution_count": 28,
      "id": "69c1a579",
      "metadata": {
        "ExecuteTime": {
          "end_time": "2022-05-08T12:02:20.002811Z",
          "start_time": "2022-05-08T12:02:19.992792Z"
        }
      },
      "outputs": [],
      "source": [
        "def decode_char(chr_str):\n",
        "    try:\n",
        "        lis = chr_str.split(' ')\n",
        "        char_list = [chr(int(i)) for i in lis] \n",
        "        pred = ''.join(char_list)\n",
        "        return pred\n",
        "    except ValueError:\n",
        "        return chr_str\n",
        "    return chr_str"
      ]
    },
    {
      "cell_type": "code",
      "execution_count": 26,
      "id": "e043616d",
      "metadata": {
        "ExecuteTime": {
          "end_time": "2022-05-08T12:00:13.658778Z",
          "start_time": "2022-05-08T12:00:13.645774Z"
        }
      },
      "outputs": [
        {
          "data": {
            "text/plain": [
              "'മ്പ'"
            ]
          },
          "execution_count": 26,
          "metadata": {},
          "output_type": "execute_result"
        }
      ],
      "source": [
        "decode_char('3374 3405 3370')"
      ]
    },
    {
      "cell_type": "code",
      "execution_count": 43,
      "id": "b95d8516",
      "metadata": {
        "ExecuteTime": {
          "end_time": "2022-05-08T12:17:24.957381Z",
          "start_time": "2022-05-08T12:17:24.945305Z"
        }
      },
      "outputs": [],
      "source": [
        "DATA_PATH = './results/model_summary/vggnet/17-27_29-3-2022-24_6_8/metrics.csv'"
      ]
    },
    {
      "cell_type": "code",
      "execution_count": 44,
      "id": "d8bc8cf2",
      "metadata": {
        "ExecuteTime": {
          "end_time": "2022-05-08T12:17:25.446189Z",
          "start_time": "2022-05-08T12:17:25.408014Z"
        }
      },
      "outputs": [],
      "source": [
        "data = pd.read_csv(DATA_PATH)"
      ]
    },
    {
      "cell_type": "code",
      "execution_count": 45,
      "id": "b5542258",
      "metadata": {
        "ExecuteTime": {
          "end_time": "2022-05-08T12:17:25.980023Z",
          "start_time": "2022-05-08T12:17:25.965924Z"
        }
      },
      "outputs": [
        {
          "data": {
            "text/html": [
              "<div>\n",
              "<style scoped>\n",
              "    .dataframe tbody tr th:only-of-type {\n",
              "        vertical-align: middle;\n",
              "    }\n",
              "\n",
              "    .dataframe tbody tr th {\n",
              "        vertical-align: top;\n",
              "    }\n",
              "\n",
              "    .dataframe thead th {\n",
              "        text-align: right;\n",
              "    }\n",
              "</style>\n",
              "<table border=\"1\" class=\"dataframe\">\n",
              "  <thead>\n",
              "    <tr style=\"text-align: right;\">\n",
              "      <th></th>\n",
              "      <th>Unnamed: 0</th>\n",
              "      <th>precision</th>\n",
              "      <th>recall</th>\n",
              "      <th>f1-score</th>\n",
              "      <th>support</th>\n",
              "    </tr>\n",
              "  </thead>\n",
              "  <tbody>\n",
              "    <tr>\n",
              "      <th>0</th>\n",
              "      <td>3329</td>\n",
              "      <td>1.0</td>\n",
              "      <td>0.954545</td>\n",
              "      <td>0.976744</td>\n",
              "      <td>22.0</td>\n",
              "    </tr>\n",
              "    <tr>\n",
              "      <th>1</th>\n",
              "      <td>3330</td>\n",
              "      <td>1.0</td>\n",
              "      <td>1.000000</td>\n",
              "      <td>1.000000</td>\n",
              "      <td>12.0</td>\n",
              "    </tr>\n",
              "    <tr>\n",
              "      <th>2</th>\n",
              "      <td>3331</td>\n",
              "      <td>1.0</td>\n",
              "      <td>1.000000</td>\n",
              "      <td>1.000000</td>\n",
              "      <td>7.0</td>\n",
              "    </tr>\n",
              "    <tr>\n",
              "      <th>3</th>\n",
              "      <td>3333</td>\n",
              "      <td>1.0</td>\n",
              "      <td>1.000000</td>\n",
              "      <td>1.000000</td>\n",
              "      <td>12.0</td>\n",
              "    </tr>\n",
              "    <tr>\n",
              "      <th>4</th>\n",
              "      <td>3334</td>\n",
              "      <td>1.0</td>\n",
              "      <td>1.000000</td>\n",
              "      <td>1.000000</td>\n",
              "      <td>15.0</td>\n",
              "    </tr>\n",
              "  </tbody>\n",
              "</table>\n",
              "</div>"
            ],
            "text/plain": [
              "  Unnamed: 0  precision    recall  f1-score  support\n",
              "0       3329        1.0  0.954545  0.976744     22.0\n",
              "1       3330        1.0  1.000000  1.000000     12.0\n",
              "2       3331        1.0  1.000000  1.000000      7.0\n",
              "3       3333        1.0  1.000000  1.000000     12.0\n",
              "4       3334        1.0  1.000000  1.000000     15.0"
            ]
          },
          "execution_count": 45,
          "metadata": {},
          "output_type": "execute_result"
        }
      ],
      "source": [
        "data.head()"
      ]
    },
    {
      "cell_type": "code",
      "execution_count": 46,
      "id": "c8e7bf0e",
      "metadata": {
        "ExecuteTime": {
          "end_time": "2022-05-08T12:17:26.515940Z",
          "start_time": "2022-05-08T12:17:26.505828Z"
        }
      },
      "outputs": [
        {
          "data": {
            "text/plain": [
              "['Unnamed: 0', 'precision', 'recall', 'f1-score', 'support']"
            ]
          },
          "execution_count": 46,
          "metadata": {},
          "output_type": "execute_result"
        }
      ],
      "source": [
        "list(data)"
      ]
    },
    {
      "cell_type": "code",
      "execution_count": 47,
      "id": "88487d58",
      "metadata": {
        "ExecuteTime": {
          "end_time": "2022-05-08T12:17:28.142008Z",
          "start_time": "2022-05-08T12:17:28.128402Z"
        }
      },
      "outputs": [],
      "source": [
        "data.rename(columns = {'Unnamed: 0':'Character',}, inplace = True)"
      ]
    },
    {
      "cell_type": "code",
      "execution_count": 48,
      "id": "a9ee2ca7",
      "metadata": {
        "ExecuteTime": {
          "end_time": "2022-05-08T12:17:29.205552Z",
          "start_time": "2022-05-08T12:17:29.198547Z"
        }
      },
      "outputs": [
        {
          "data": {
            "text/plain": [
              "['Character', 'precision', 'recall', 'f1-score', 'support']"
            ]
          },
          "execution_count": 48,
          "metadata": {},
          "output_type": "execute_result"
        }
      ],
      "source": [
        "list(data)"
      ]
    },
    {
      "cell_type": "code",
      "execution_count": 49,
      "id": "0426ea4c",
      "metadata": {
        "ExecuteTime": {
          "end_time": "2022-05-08T12:17:32.112586Z",
          "start_time": "2022-05-08T12:17:31.998119Z"
        }
      },
      "outputs": [],
      "source": [
        "for i, row in data.iterrows():\n",
        "    data.replace({'Character': {row['Character']:decode_char(row['Character'])}},inplace=True)"
      ]
    },
    {
      "cell_type": "code",
      "execution_count": 50,
      "id": "15089ca9",
      "metadata": {
        "ExecuteTime": {
          "end_time": "2022-05-08T12:17:34.056748Z",
          "start_time": "2022-05-08T12:17:34.043752Z"
        }
      },
      "outputs": [
        {
          "data": {
            "text/html": [
              "<div>\n",
              "<style scoped>\n",
              "    .dataframe tbody tr th:only-of-type {\n",
              "        vertical-align: middle;\n",
              "    }\n",
              "\n",
              "    .dataframe tbody tr th {\n",
              "        vertical-align: top;\n",
              "    }\n",
              "\n",
              "    .dataframe thead th {\n",
              "        text-align: right;\n",
              "    }\n",
              "</style>\n",
              "<table border=\"1\" class=\"dataframe\">\n",
              "  <thead>\n",
              "    <tr style=\"text-align: right;\">\n",
              "      <th></th>\n",
              "      <th>Character</th>\n",
              "      <th>precision</th>\n",
              "      <th>recall</th>\n",
              "      <th>f1-score</th>\n",
              "      <th>support</th>\n",
              "    </tr>\n",
              "  </thead>\n",
              "  <tbody>\n",
              "    <tr>\n",
              "      <th>124</th>\n",
              "      <td>ൽ</td>\n",
              "      <td>1.000000</td>\n",
              "      <td>1.000000</td>\n",
              "      <td>1.000000</td>\n",
              "      <td>10.00000</td>\n",
              "    </tr>\n",
              "    <tr>\n",
              "      <th>125</th>\n",
              "      <td>ൾ</td>\n",
              "      <td>1.000000</td>\n",
              "      <td>1.000000</td>\n",
              "      <td>1.000000</td>\n",
              "      <td>15.00000</td>\n",
              "    </tr>\n",
              "    <tr>\n",
              "      <th>126</th>\n",
              "      <td>accuracy</td>\n",
              "      <td>0.993590</td>\n",
              "      <td>0.993590</td>\n",
              "      <td>0.993590</td>\n",
              "      <td>0.99359</td>\n",
              "    </tr>\n",
              "    <tr>\n",
              "      <th>127</th>\n",
              "      <td>macro avg</td>\n",
              "      <td>0.993910</td>\n",
              "      <td>0.993726</td>\n",
              "      <td>0.993614</td>\n",
              "      <td>1872.00000</td>\n",
              "    </tr>\n",
              "    <tr>\n",
              "      <th>128</th>\n",
              "      <td>weighted avg</td>\n",
              "      <td>0.993961</td>\n",
              "      <td>0.993590</td>\n",
              "      <td>0.993586</td>\n",
              "      <td>1872.00000</td>\n",
              "    </tr>\n",
              "  </tbody>\n",
              "</table>\n",
              "</div>"
            ],
            "text/plain": [
              "        Character  precision    recall  f1-score     support\n",
              "124             ൽ   1.000000  1.000000  1.000000    10.00000\n",
              "125             ൾ   1.000000  1.000000  1.000000    15.00000\n",
              "126      accuracy   0.993590  0.993590  0.993590     0.99359\n",
              "127     macro avg   0.993910  0.993726  0.993614  1872.00000\n",
              "128  weighted avg   0.993961  0.993590  0.993586  1872.00000"
            ]
          },
          "execution_count": 50,
          "metadata": {},
          "output_type": "execute_result"
        }
      ],
      "source": [
        "data.tail()"
      ]
    },
    {
      "cell_type": "code",
      "execution_count": null,
      "id": "9dfa1e06",
      "metadata": {},
      "outputs": [],
      "source": []
    },
    {
      "cell_type": "code",
      "execution_count": 51,
      "id": "4d24e52e",
      "metadata": {
        "ExecuteTime": {
          "end_time": "2022-05-08T12:17:39.633051Z",
          "start_time": "2022-05-08T12:17:39.579180Z"
        }
      },
      "outputs": [],
      "source": [
        "filename = DATA_PATH.rsplit('.',1)[0]+'.xlsx'\n",
        "data.to_excel(filename)"
      ]
    },
    {
      "cell_type": "code",
      "execution_count": null,
      "id": "7e2f363b",
      "metadata": {},
      "outputs": [],
      "source": []
    }
  ],
  "metadata": {
    "kernelspec": {
      "display_name": "Python 3 (ipykernel)",
      "language": "python",
      "name": "python3"
    },
    "language_info": {
      "codemirror_mode": {
        "name": "ipython",
        "version": 3
      },
      "file_extension": ".py",
      "mimetype": "text/x-python",
      "name": "python",
      "nbconvert_exporter": "python",
      "pygments_lexer": "ipython3",
      "version": "3.9.7"
    }
  },
  "nbformat": 4,
  "nbformat_minor": 5
}
